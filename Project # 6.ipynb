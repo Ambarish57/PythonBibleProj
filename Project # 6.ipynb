{
 "cells": [
  {
   "cell_type": "code",
   "execution_count": 8,
   "metadata": {},
   "outputs": [],
   "source": [
    "#Baby program # loop \n"
   ]
  },
  {
   "cell_type": "code",
   "execution_count": 12,
   "metadata": {},
   "outputs": [
    {
     "name": "stdout",
     "output_type": "stream",
     "text": [
      "do you love me?:\n",
      "Would you like to enter another choice ('Y'/'y'):y\n",
      "do you love me?:\n",
      "Would you like to enter another choice ('Y'/'y'):g\n"
     ]
    }
   ],
   "source": [
    "from random import choice \n",
    "\n",
    "list_of_qus = ['What is moon?;','What is python?:','do you love me?:']\n",
    "\n",
    "select_of_qus = choice(list_of_qus)\n",
    "\n",
    "A = True\n",
    "\n",
    "while A:\n",
    "    print(select_of_qus)\n",
    "    \n",
    "    a1 = input('''Would you like to enter another choice ('Y'/'y'):''').strip().upper()\n",
    "    \n",
    "    if a1 == 'Y':\n",
    "        A = True \n",
    "    else:\n",
    "        A = False \n",
    "\n",
    "\n"
   ]
  },
  {
   "cell_type": "code",
   "execution_count": 17,
   "metadata": {},
   "outputs": [
    {
     "name": "stdout",
     "output_type": "stream",
     "text": [
      "1\n",
      "2\n",
      "3\n",
      "4\n",
      "5\n",
      "6\n",
      "7\n",
      "8\n",
      "9\n",
      "10\n",
      "********************\n",
      "1\n",
      "3\n",
      "5\n",
      "7\n",
      "9\n",
      "11\n",
      "13\n",
      "15\n",
      "17\n",
      "19\n"
     ]
    }
   ],
   "source": [
    "#for loop \n",
    "for i in range(1,11):\n",
    "    print(i)\n",
    "\n",
    "print('*'*20)\n",
    "\n",
    "for i in range(1,21,2):\n",
    "    print(i)\n",
    "\n"
   ]
  },
  {
   "cell_type": "code",
   "execution_count": 14,
   "metadata": {},
   "outputs": [
    {
     "name": "stdout",
     "output_type": "stream",
     "text": [
      "aa\n",
      "4\n",
      "tt\n",
      "555\n",
      "11\n",
      "tt\n"
     ]
    }
   ],
   "source": [
    "list1 = ['aa',4,'tt',555,11,'tt']\n",
    "\n",
    "for C in list1:\n",
    "    print(C)"
   ]
  },
  {
   "cell_type": "code",
   "execution_count": 36,
   "metadata": {},
   "outputs": [
    {
     "name": "stdout",
     "output_type": "stream",
     "text": [
      " Enter a word :Aldje. afsifjddsgnig. gsdgdkjd idigdkgn sgf\n",
      "A\n",
      "l\n",
      "d\n",
      "j\n",
      "e\n",
      ".\n",
      " \n",
      "a\n",
      "f\n",
      "s\n",
      "i\n",
      "f\n",
      "j\n",
      "d\n",
      "d\n",
      "s\n",
      "g\n",
      "n\n",
      "i\n",
      "g\n",
      ".\n",
      " \n",
      "g\n",
      "s\n",
      "d\n",
      "g\n",
      "d\n",
      "k\n",
      "j\n",
      "d\n",
      " \n",
      "i\n",
      "d\n",
      "i\n",
      "g\n",
      "d\n",
      "k\n",
      "g\n",
      "n\n",
      " \n",
      "s\n",
      "g\n",
      "f\n",
      "vowel = 7 and consonent = 32\n",
      "4\n",
      "['a', 'e', 'a', 'i', 'i', 'i', 'i']\n",
      "['l', 'd', 'j', '.', 'f', 's', 'f', 'j', 'd', 'd', 's', 'g', 'n', 'g', '.', 'g', 's', 'd', 'g', 'd', 'k', 'j', 'd', 'd', 'g', 'd', 'k', 'g', 'n', 's', 'g', 'f']\n",
      "4\n"
     ]
    }
   ],
   "source": [
    "# detect number of vowel and consonents\n",
    "\n",
    "word = input(' Enter a word :').strip()\n",
    "\n",
    "vowel = 0\n",
    "consonent = 0 \n",
    "space = 0 \n",
    "all_vowel = []\n",
    "all_conso = []\n",
    "\n",
    "for letter in word:\n",
    "    print(letter)\n",
    "    if letter.lower() in 'aeiou':\n",
    "        vowel = vowel + 1\n",
    "        all_vowel.append(letter.lower())\n",
    "    elif letter.lower() == \" \":\n",
    "        space = space + 1\n",
    "    else:\n",
    "        consonent =  consonent + 1\n",
    "        all_conso.append(letter.lower())\n",
    "        \n",
    "print('vowel = {1} and consonent = {0}'.format(consonent,vowel))\n",
    "print(space)\n",
    "print(all_vowel)\n",
    "print(all_conso)\n",
    "print(space)\n"
   ]
  },
  {
   "cell_type": "code",
   "execution_count": 37,
   "metadata": {},
   "outputs": [
    {
     "name": "stdout",
     "output_type": "stream",
     "text": [
      "Male\n",
      "Female\n"
     ]
    }
   ],
   "source": [
    "# Student with a name, which contains 'a'. \n",
    "\n",
    "student = { \"Male\": ['Tom','Ambarish','Dick','Harry','Sam','olos'],\n",
    "            \"Female\": ['Jenney','Jane','Love','Ira','Kulu','Zimbuba']}\n",
    "\n",
    "# keys\n",
    "\n",
    "for keys in student.keys():\n",
    "    print(keys)\n",
    "    \n",
    "    "
   ]
  },
  {
   "cell_type": "code",
   "execution_count": 38,
   "metadata": {},
   "outputs": [
    {
     "name": "stdout",
     "output_type": "stream",
     "text": [
      "['Tom', 'Ambarish', 'Dick', 'Harry', 'Sam', 'olos']\n",
      "['Jenney', 'Jane', 'Love', 'Ira', 'Kulu', 'Zimbuba']\n"
     ]
    }
   ],
   "source": [
    "#values\n",
    "\n",
    "for value in student.values():\n",
    "    print(value)\n",
    "    "
   ]
  },
  {
   "cell_type": "code",
   "execution_count": 39,
   "metadata": {},
   "outputs": [
    {
     "name": "stdout",
     "output_type": "stream",
     "text": [
      "('Male', ['Tom', 'Ambarish', 'Dick', 'Harry', 'Sam', 'olos'])\n",
      "('Female', ['Jenney', 'Jane', 'Love', 'Ira', 'Kulu', 'Zimbuba'])\n"
     ]
    }
   ],
   "source": [
    "# items\n",
    "\n",
    "for item in student.items():\n",
    "    print(item)\n",
    "    "
   ]
  },
  {
   "cell_type": "code",
   "execution_count": 45,
   "metadata": {},
   "outputs": [
    {
     "name": "stdout",
     "output_type": "stream",
     "text": [
      "['Tom', 'Ambarish', 'Dick', 'Harry', 'Sam', 'olos']\n",
      "name:Tom\n",
      "name:Ambarish\n",
      "name:Dick\n",
      "name:Harry\n",
      "name:Sam\n",
      "name:olos\n",
      "%#$%#$%#$%#$%#$%#$%#$%#$%#$%#$%#$%#$%#$%#$%#$%#$%#$%#$%#$%#$%#$%#$%#$%#$%#$%#$%#$%#$%#$%#$%#$%#$%#$%#$%#$\n",
      "['Jenney', 'Jane', 'Love', 'Ira', 'Kulu', 'Zimbuba']\n",
      "name:Jenney\n",
      "name:Jane\n",
      "name:Love\n",
      "name:Ira\n",
      "name:Kulu\n",
      "name:Zimbuba\n",
      "%#$%#$%#$%#$%#$%#$%#$%#$%#$%#$%#$%#$%#$%#$%#$%#$%#$%#$%#$%#$%#$%#$%#$%#$%#$%#$%#$%#$%#$%#$%#$%#$%#$%#$%#$\n"
     ]
    }
   ],
   "source": [
    "for keys in student.keys():\n",
    "    print(student[keys])\n",
    "    for name in student[keys]:\n",
    "        print('name:{}'.format(name))\n",
    "    print('%#$'*35)\n",
    "    "
   ]
  },
  {
   "cell_type": "code",
   "execution_count": 48,
   "metadata": {},
   "outputs": [
    {
     "name": "stdout",
     "output_type": "stream",
     "text": [
      "[2, 4, 6, 8, 10, 12, 14, 16, 18, 20, 22, 24, 26, 28, 30, 32, 34, 36, 38, 40, 42, 44, 46, 48, 50, 52, 54, 56, 58, 60, 62, 64, 66, 68, 70, 72, 74, 76, 78, 80, 82, 84, 86, 88, 90, 92, 94, 96, 98, 100, 102, 104, 106, 108, 110, 112, 114, 116, 118, 120, 122, 124, 126, 128, 130, 132, 134, 136, 138, 140, 142, 144, 146, 148, 150, 152, 154, 156, 158, 160, 162, 164, 166, 168, 170, 172, 174, 176, 178, 180, 182, 184, 186, 188, 190, 192, 194, 196, 198, 200, 202, 204, 206, 208, 210, 212, 214, 216, 218, 220, 222, 224, 226, 228, 230, 232, 234, 236, 238, 240, 242, 244, 246, 248, 250, 252, 254, 256, 258, 260, 262, 264, 266, 268, 270, 272, 274, 276, 278, 280, 282, 284, 286, 288, 290, 292, 294, 296, 298, 300, 302, 304, 306, 308, 310, 312, 314, 316, 318, 320, 322, 324, 326, 328, 330, 332, 334, 336, 338, 340, 342, 344, 346, 348, 350, 352, 354, 356, 358, 360, 362, 364, 366, 368, 370, 372, 374, 376, 378, 380, 382, 384, 386, 388, 390, 392, 394, 396, 398, 400, 402, 404, 406, 408, 410, 412, 414, 416, 418, 420, 422, 424, 426, 428, 430, 432, 434, 436, 438, 440, 442, 444, 446, 448, 450, 452, 454, 456, 458, 460, 462, 464, 466, 468, 470, 472, 474, 476, 478, 480, 482, 484, 486, 488, 490, 492, 494, 496, 498, 500]\n"
     ]
    }
   ],
   "source": [
    "# List Comprehension \n",
    "\n",
    "even_number = [x for x in range(1,501) if x%2 ==0]\n",
    "print(even_number)"
   ]
  },
  {
   "cell_type": "code",
   "execution_count": 51,
   "metadata": {},
   "outputs": [
    {
     "name": "stdout",
     "output_type": "stream",
     "text": [
      "[1, 3, 5, 7, 9, 11, 13, 15, 17, 19, 21, 23, 25, 27, 29, 31, 33, 35, 37, 39, 41, 43, 45, 47, 49, 51, 53, 55, 57, 59, 61, 63, 65, 67, 69, 71, 73, 75, 77, 79, 81, 83, 85, 87, 89, 91, 93, 95, 97, 99, 101, 103, 105, 107, 109, 111, 113, 115, 117, 119, 121, 123, 125, 127, 129, 131, 133, 135, 137, 139, 141, 143, 145, 147, 149, 151, 153, 155, 157, 159, 161, 163, 165, 167, 169, 171, 173, 175, 177, 179, 181, 183, 185, 187, 189, 191, 193, 195, 197, 199, 201, 203, 205, 207, 209, 211, 213, 215, 217, 219, 221, 223, 225, 227, 229, 231, 233, 235, 237, 239, 241, 243, 245, 247, 249, 251, 253, 255, 257, 259, 261, 263, 265, 267, 269, 271, 273, 275, 277, 279, 281, 283, 285, 287, 289, 291, 293, 295, 297, 299, 301, 303, 305, 307, 309, 311, 313, 315, 317, 319, 321, 323, 325, 327, 329, 331, 333, 335, 337, 339, 341, 343, 345, 347, 349, 351, 353, 355, 357, 359, 361, 363, 365, 367, 369, 371, 373, 375, 377, 379, 381, 383, 385, 387, 389, 391, 393, 395, 397, 399, 401, 403, 405, 407, 409, 411, 413, 415, 417, 419, 421, 423, 425, 427, 429, 431, 433, 435, 437, 439, 441, 443, 445, 447, 449, 451, 453, 455, 457, 459, 461, 463, 465, 467, 469, 471, 473, 475, 477, 479, 481, 483, 485, 487, 489, 491, 493, 495, 497, 499]\n"
     ]
    }
   ],
   "source": [
    "odd_number = [x for x in range(1,501) if x%2 ==1]\n",
    "print(odd_number)"
   ]
  },
  {
   "cell_type": "code",
   "execution_count": 63,
   "metadata": {},
   "outputs": [
    {
     "name": "stdout",
     "output_type": "stream",
     "text": [
      "[['TOM', 3], ['AMBARISH', 8], ['AMBARISH', 8], ['DICK', 4], ['HARRY', 5], ['SAM', 3], ['OLOS', 4], ['OLOS', 4]]\n",
      "*****************************************************************************\n",
      "[['tom', 3], ['tom', 3], ['ambarish', 8], ['ambarish', 8], ['ambarish', 8], ['ambarish', 8], ['ambarish', 8], ['ambarish', 8], ['dick', 4], ['dick', 4], ['dick', 4], ['harry', 5], ['harry', 5], ['harry', 5], ['harry', 5], ['sam', 3], ['sam', 3], ['olos', 4], ['olos', 4], ['kkkkfdf', 7], ['kkkkfdf', 7], ['kkkkfdf', 7], ['kkkkfdf', 7], ['kkkkfdf', 7], ['kkkkfdf', 7], ['kkkkfdf', 7], ['kdfdsjfk', 8], ['kdfdsjfk', 8], ['kdfdsjfk', 8], ['kdfdsjfk', 8], ['kdfdsjfk', 8], ['kdfdsjfk', 8], ['kdfdsjfk', 8], ['kdfdsjfk', 8], ['fdjsfhdjhf', 10], ['fdjsfhdjhf', 10], ['fdjsfhdjhf', 10], ['fdjsfhdjhf', 10], ['fdjsfhdjhf', 10], ['fdjsfhdjhf', 10], ['fdjsfhdjhf', 10], ['fdjsfhdjhf', 10], ['fdjsfhdjhf', 10], ['fdjsfhdjhf', 10]]\n"
     ]
    }
   ],
   "source": [
    "# print the name only if word contain vowels\n",
    "\n",
    "A = ['Tom','Ambarish','Dick','Harry','Sam','olos','kkkkfdf','kdfdsjfk','fdjsfhdjhf']\n",
    "\n",
    "list = [[a.upper(),len(a)] for a in A for w in a if w in 'aeiou']\n",
    "print(list)\n",
    "print('*'*77)\n",
    "c=0\n",
    "list1 = [[b.lower(),len(b)] for b in A for b1 in b if b1 not in 'aeiou']\n",
    "print(list1)"
   ]
  },
  {
   "cell_type": "code",
   "execution_count": null,
   "metadata": {},
   "outputs": [],
   "source": []
  }
 ],
 "metadata": {
  "kernelspec": {
   "display_name": "Python 3",
   "language": "python",
   "name": "python3"
  },
  "language_info": {
   "codemirror_mode": {
    "name": "ipython",
    "version": 3
   },
   "file_extension": ".py",
   "mimetype": "text/x-python",
   "name": "python",
   "nbconvert_exporter": "python",
   "pygments_lexer": "ipython3",
   "version": "3.7.6"
  }
 },
 "nbformat": 4,
 "nbformat_minor": 4
}
