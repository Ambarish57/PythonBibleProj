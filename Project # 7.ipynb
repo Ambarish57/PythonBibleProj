{
 "cells": [
  {
   "cell_type": "code",
   "execution_count": 1,
   "metadata": {},
   "outputs": [],
   "source": [
    "# Project # 7 - Pig Latin"
   ]
  },
  {
   "cell_type": "code",
   "execution_count": 28,
   "metadata": {},
   "outputs": [
    {
     "name": "stdout",
     "output_type": "stream",
     "text": [
      "Please enter a word to convert the same to a Pig Latin:Ambarish\n",
      "ambarish converted to Pig Latin as mbarishyay\n"
     ]
    }
   ],
   "source": [
    "word = input('Please enter a word to convert the same to a Pig Latin:').strip().lower()\n",
    "counter =0 \n",
    "vowel = 0\n",
    "\n",
    "for w in word:\n",
    "    counter = counter + 1 \n",
    "    \n",
    "    if w in 'aeiou':\n",
    "        vowel = vowel +1\n",
    "    \n",
    "    if counter == len(word) and vowel == 0:\n",
    "        print('{} is NOT a name'.format(word))\n",
    "        break\n",
    "    \n",
    "    if counter != 0:\n",
    "        if (w in 'aeiou' and counter == 1):\n",
    "            word_old = word\n",
    "            word = word[1:] + 'yay'\n",
    "            print('{} converted to Pig Latin as {}'.format(word_old,word))\n",
    "            break\n",
    "        elif vowel != 0:\n",
    "            if word[0] not in 'aeiou':\n",
    "                word_old = word\n",
    "                word = word[1:]+word[0].upper()+'ay'\n",
    "                print('{} converted to Pig Latin as {}'.format(word_old,word))\n",
    "                break\n",
    "    else:\n",
    "        continue \n",
    "    "
   ]
  },
  {
   "cell_type": "code",
   "execution_count": 33,
   "metadata": {},
   "outputs": [
    {
     "name": "stdout",
     "output_type": "stream",
     "text": [
      "Please enter a word to convert the same to a Pig Latin:I am the boss of the world and all good \n",
      "['i', 'am', 'the', 'boss', 'of', 'the', 'world', 'and', 'all', 'good']\n",
      "i converted to Pig Latin as yay\n",
      "am converted to Pig Latin as myay\n",
      "the converted to Pig Latin as heTay\n",
      "boss converted to Pig Latin as ossBay\n",
      "of converted to Pig Latin as fyay\n",
      "the converted to Pig Latin as heTay\n",
      "world converted to Pig Latin as orldWay\n",
      "and converted to Pig Latin as ndyay\n",
      "all converted to Pig Latin as llyay\n",
      "good converted to Pig Latin as oodGay\n",
      "*****************************************************************************\n",
      "yay myay heTay ossBay fyay heTay orldWay ndyay llyay oodGay\n"
     ]
    }
   ],
   "source": [
    "sentance = input('Please enter a word to convert the same to a Pig Latin:').strip().lower()\n",
    "\n",
    "# make a list \n",
    "words = sentance.split()\n",
    "\n",
    "print(words)\n",
    "\n",
    "counter =0 \n",
    "\n",
    "senten = []\n",
    "\n",
    "for word in words:\n",
    "    \n",
    "    if word[0] in 'aeiou':\n",
    "        word_old = word\n",
    "        word = word[1:] + 'yay'\n",
    "        print('{} converted to Pig Latin as {}'.format(word_old,word))\n",
    "        senten.append(word)\n",
    "    elif word[0] not in 'aeiou':\n",
    "        word_old = word\n",
    "        word = word[1:]+word[0].upper()+'ay'\n",
    "        print('{} converted to Pig Latin as {}'.format(word_old,word))\n",
    "        senten.append(word)\n",
    "\n",
    "        \n",
    "output = \" \".join(senten)\n",
    "\n",
    "print('*'*77)\n",
    "print(output)\n",
    "                \n",
    "    "
   ]
  },
  {
   "cell_type": "code",
   "execution_count": null,
   "metadata": {},
   "outputs": [],
   "source": []
  }
 ],
 "metadata": {
  "kernelspec": {
   "display_name": "Python 3",
   "language": "python",
   "name": "python3"
  },
  "language_info": {
   "codemirror_mode": {
    "name": "ipython",
    "version": 3
   },
   "file_extension": ".py",
   "mimetype": "text/x-python",
   "name": "python",
   "nbconvert_exporter": "python",
   "pygments_lexer": "ipython3",
   "version": "3.7.6"
  }
 },
 "nbformat": 4,
 "nbformat_minor": 4
}
