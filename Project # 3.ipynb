{
 "cells": [
  {
   "cell_type": "code",
   "execution_count": 2,
   "metadata": {},
   "outputs": [
    {
     "data": {
      "text/plain": [
       "'b'"
      ]
     },
     "execution_count": 2,
     "metadata": {},
     "output_type": "execute_result"
    }
   ],
   "source": [
    "word = \"ambfsajfkdjfkdjfk\"\n",
    "word[2]"
   ]
  },
  {
   "cell_type": "code",
   "execution_count": 3,
   "metadata": {},
   "outputs": [
    {
     "data": {
      "text/plain": [
       "'amb'"
      ]
     },
     "execution_count": 3,
     "metadata": {},
     "output_type": "execute_result"
    }
   ],
   "source": [
    "word[0:3]"
   ]
  },
  {
   "cell_type": "code",
   "execution_count": 4,
   "metadata": {},
   "outputs": [
    {
     "data": {
      "text/plain": [
       "'afjd'"
      ]
     },
     "execution_count": 4,
     "metadata": {},
     "output_type": "execute_result"
    }
   ],
   "source": [
    "word[0:10:3]"
   ]
  },
  {
   "cell_type": "code",
   "execution_count": 18,
   "metadata": {},
   "outputs": [
    {
     "name": "stdout",
     "output_type": "stream",
     "text": [
      "msinairatnemhsilbatsesiditna\n",
      "dis\n",
      "miartehibteiin\n"
     ]
    }
   ],
   "source": [
    "word = \"antidisestablishmentarianism\"\n",
    "\n",
    "# reverse a string \n",
    "word1 = word[::-1]\n",
    "\n",
    "print(word1)\n",
    "\n",
    "# how to automate the string position \n",
    "\n",
    "word2 = word[word.index('dis'):word.index('est')]\n",
    "\n",
    "print(word2)\n",
    "\n",
    "word3 = word[::-2]\n",
    "\n",
    "print(word3)"
   ]
  },
  {
   "cell_type": "code",
   "execution_count": 10,
   "metadata": {},
   "outputs": [
    {
     "name": "stdout",
     "output_type": "stream",
     "text": [
      "Ambarish Ghosh is a \n"
     ]
    }
   ],
   "source": [
    "A = \"Ambarish Ghosh is a genius. Ambarish is great\"\n",
    "\n",
    "b = A [A.index('Ambarish'):A.index('genius')]\n",
    "\n",
    "print(b)"
   ]
  },
  {
   "cell_type": "code",
   "execution_count": 17,
   "metadata": {},
   "outputs": [
    {
     "name": "stdout",
     "output_type": "stream",
     "text": [
      "Ambarish Ghosh is a genius. Ambarish is great\n"
     ]
    }
   ],
   "source": [
    "A = \"Ambarish Ghosh is a genius. Ambarish is great\"\n",
    "\n",
    "b1 = A [A.index('Ambarish'):]\n",
    "\n",
    "print(b1)"
   ]
  },
  {
   "cell_type": "code",
   "execution_count": 21,
   "metadata": {},
   "outputs": [
    {
     "name": "stdout",
     "output_type": "stream",
     "text": [
      "Enter your email address :ambarish.cse@gmail.com\n",
      "ambarish.cse\n",
      "gmail.com\n",
      "Your username is ambarish.cse AND domail name is gmail.com\n"
     ]
    }
   ],
   "source": [
    "# Slice email address project \n",
    "# Get user email address \n",
    "\n",
    "email = input('Enter your email address :').strip()\n",
    "\n",
    "# Slice out user name \n",
    "\n",
    "user_name = email[:email.index('@')]\n",
    "\n",
    "# Slice out domain name \n",
    "\n",
    "domain_name = email[(email.index('@')+1):]\n",
    "\n",
    "print(user_name)\n",
    "print(domain_name)\n",
    "\n",
    "# formate message \n",
    "\n",
    "output = 'Your username is {} AND domail name is {}'.format(user_name,domain_name)\n",
    "\n",
    "# Display output message  \n",
    "\n",
    "print(output)\n",
    "\n",
    "\n"
   ]
  },
  {
   "cell_type": "code",
   "execution_count": null,
   "metadata": {},
   "outputs": [],
   "source": []
  }
 ],
 "metadata": {
  "kernelspec": {
   "display_name": "Python 3",
   "language": "python",
   "name": "python3"
  },
  "language_info": {
   "codemirror_mode": {
    "name": "ipython",
    "version": 3
   },
   "file_extension": ".py",
   "mimetype": "text/x-python",
   "name": "python",
   "nbconvert_exporter": "python",
   "pygments_lexer": "ipython3",
   "version": "3.7.6"
  }
 },
 "nbformat": 4,
 "nbformat_minor": 4
}
