{
 "cells": [
  {
   "cell_type": "code",
   "execution_count": 13,
   "metadata": {},
   "outputs": [
    {
     "name": "stdout",
     "output_type": "stream",
     "text": [
      "print the list contain 1,11,Ambarish,False\n"
     ]
    }
   ],
   "source": [
    "# list\n",
    "\n",
    "new_list = [1,44,55,77,\"Ambarish\",\"AA\",\"XMAS\",True,False,\"T\",11]\n",
    "\n",
    "print('print the list contain {},{},{},{}'.format(new_list[0],new_list[-1],new_list[4],new_list[-3]))"
   ]
  },
  {
   "cell_type": "code",
   "execution_count": 14,
   "metadata": {},
   "outputs": [
    {
     "name": "stdout",
     "output_type": "stream",
     "text": [
      "55\n",
      "[22, 55, 77]\n"
     ]
    }
   ],
   "source": [
    "# list inside a list\n",
    "list_inside = [1,11,44,[22,55,77],4,77]\n",
    "\n",
    "print(list_inside[3][1])\n",
    "print(list_inside[3][0:])"
   ]
  },
  {
   "cell_type": "code",
   "execution_count": 17,
   "metadata": {},
   "outputs": [
    {
     "name": "stdout",
     "output_type": "stream",
     "text": [
      "Total number of member in the list 7\n",
      "My Name is Travis\n",
      "['Ambarish', 'Kaka', 'Ghosh', 'Boss', 'Admin', 'Hero', 'Master']\n",
      "What is your name ? Ambarish\n",
      "Name is recognized\n",
      "Hello Ambarish!!\n",
      "Would you like to be removed from the list ? (Y/y)N\n",
      "['Ambarish', 'Kaka', 'Ghosh', 'Boss', 'Admin', 'Hero', 'Master']\n",
      "My Name is Travis\n",
      "['Ambarish', 'Kaka', 'Ghosh', 'Boss', 'Admin', 'Hero', 'Master']\n",
      "What is your name ? Ala\n",
      "Name is not recognized\n",
      "Would you like to add into the user list? (Y/y)Y\n",
      "['Ambarish', 'Kaka', 'Ghosh', 'Boss', 'Admin', 'Hero', 'Master', 'Ala']\n",
      "My Name is Travis\n",
      "['Ambarish', 'Kaka', 'Ghosh', 'Boss', 'Admin', 'Hero', 'Master', 'Ala']\n",
      "What is your name ? Als\n",
      "Name is not recognized\n",
      "Would you like to add into the user list? (Y/y)Y\n",
      "['Ambarish', 'Kaka', 'Ghosh', 'Boss', 'Admin', 'Hero', 'Master', 'Ala', 'Als']\n",
      "My Name is Travis\n",
      "['Ambarish', 'Kaka', 'Ghosh', 'Boss', 'Admin', 'Hero', 'Master', 'Ala', 'Als']\n",
      "What is your name ? Omm\n",
      "Name is not recognized\n",
      "Would you like to add into the user list? (Y/y)n\n",
      "['Ambarish', 'Kaka', 'Ghosh', 'Boss', 'Admin', 'Hero', 'Master', 'Ala', 'Als']\n",
      "My Name is Travis\n",
      "['Ambarish', 'Kaka', 'Ghosh', 'Boss', 'Admin', 'Hero', 'Master', 'Ala', 'Als']\n",
      "What is your name ? Ambarish\n",
      "Name is recognized\n",
      "Hello Ambarish!!\n",
      "Would you like to be removed from the list ? (Y/y)Y\n",
      "['Kaka', 'Ghosh', 'Boss', 'Admin', 'Hero', 'Master', 'Ala', 'Als']\n",
      "My Name is Travis\n",
      "['Kaka', 'Ghosh', 'Boss', 'Admin', 'Hero', 'Master', 'Ala', 'Als']\n",
      "What is your name ? Ambarish\n",
      "Name is not recognized\n",
      "Would you like to add into the user list? (Y/y)Y\n",
      "['Kaka', 'Ghosh', 'Boss', 'Admin', 'Hero', 'Master', 'Ala', 'Als', 'Ambarish']\n",
      "My Name is Travis\n",
      "['Kaka', 'Ghosh', 'Boss', 'Admin', 'Hero', 'Master', 'Ala', 'Als', 'Ambarish']\n"
     ]
    },
    {
     "ename": "KeyboardInterrupt",
     "evalue": "",
     "output_type": "error",
     "traceback": [
      "\u001b[0;31m---------------------------------------------------------------------------\u001b[0m",
      "\u001b[0;31mKeyboardInterrupt\u001b[0m                         Traceback (most recent call last)",
      "\u001b[0;32m/opt/anaconda3/lib/python3.7/site-packages/ipykernel/kernelbase.py\u001b[0m in \u001b[0;36m_input_request\u001b[0;34m(self, prompt, ident, parent, password)\u001b[0m\n\u001b[1;32m    883\u001b[0m             \u001b[0;32mtry\u001b[0m\u001b[0;34m:\u001b[0m\u001b[0;34m\u001b[0m\u001b[0;34m\u001b[0m\u001b[0m\n\u001b[0;32m--> 884\u001b[0;31m                 \u001b[0mident\u001b[0m\u001b[0;34m,\u001b[0m \u001b[0mreply\u001b[0m \u001b[0;34m=\u001b[0m \u001b[0mself\u001b[0m\u001b[0;34m.\u001b[0m\u001b[0msession\u001b[0m\u001b[0;34m.\u001b[0m\u001b[0mrecv\u001b[0m\u001b[0;34m(\u001b[0m\u001b[0mself\u001b[0m\u001b[0;34m.\u001b[0m\u001b[0mstdin_socket\u001b[0m\u001b[0;34m,\u001b[0m \u001b[0;36m0\u001b[0m\u001b[0;34m)\u001b[0m\u001b[0;34m\u001b[0m\u001b[0;34m\u001b[0m\u001b[0m\n\u001b[0m\u001b[1;32m    885\u001b[0m             \u001b[0;32mexcept\u001b[0m \u001b[0mException\u001b[0m\u001b[0;34m:\u001b[0m\u001b[0;34m\u001b[0m\u001b[0;34m\u001b[0m\u001b[0m\n",
      "\u001b[0;32m/opt/anaconda3/lib/python3.7/site-packages/jupyter_client/session.py\u001b[0m in \u001b[0;36mrecv\u001b[0;34m(self, socket, mode, content, copy)\u001b[0m\n\u001b[1;32m    802\u001b[0m         \u001b[0;32mtry\u001b[0m\u001b[0;34m:\u001b[0m\u001b[0;34m\u001b[0m\u001b[0;34m\u001b[0m\u001b[0m\n\u001b[0;32m--> 803\u001b[0;31m             \u001b[0mmsg_list\u001b[0m \u001b[0;34m=\u001b[0m \u001b[0msocket\u001b[0m\u001b[0;34m.\u001b[0m\u001b[0mrecv_multipart\u001b[0m\u001b[0;34m(\u001b[0m\u001b[0mmode\u001b[0m\u001b[0;34m,\u001b[0m \u001b[0mcopy\u001b[0m\u001b[0;34m=\u001b[0m\u001b[0mcopy\u001b[0m\u001b[0;34m)\u001b[0m\u001b[0;34m\u001b[0m\u001b[0;34m\u001b[0m\u001b[0m\n\u001b[0m\u001b[1;32m    804\u001b[0m         \u001b[0;32mexcept\u001b[0m \u001b[0mzmq\u001b[0m\u001b[0;34m.\u001b[0m\u001b[0mZMQError\u001b[0m \u001b[0;32mas\u001b[0m \u001b[0me\u001b[0m\u001b[0;34m:\u001b[0m\u001b[0;34m\u001b[0m\u001b[0;34m\u001b[0m\u001b[0m\n",
      "\u001b[0;32m/opt/anaconda3/lib/python3.7/site-packages/zmq/sugar/socket.py\u001b[0m in \u001b[0;36mrecv_multipart\u001b[0;34m(self, flags, copy, track)\u001b[0m\n\u001b[1;32m    474\u001b[0m         \"\"\"\n\u001b[0;32m--> 475\u001b[0;31m         \u001b[0mparts\u001b[0m \u001b[0;34m=\u001b[0m \u001b[0;34m[\u001b[0m\u001b[0mself\u001b[0m\u001b[0;34m.\u001b[0m\u001b[0mrecv\u001b[0m\u001b[0;34m(\u001b[0m\u001b[0mflags\u001b[0m\u001b[0;34m,\u001b[0m \u001b[0mcopy\u001b[0m\u001b[0;34m=\u001b[0m\u001b[0mcopy\u001b[0m\u001b[0;34m,\u001b[0m \u001b[0mtrack\u001b[0m\u001b[0;34m=\u001b[0m\u001b[0mtrack\u001b[0m\u001b[0;34m)\u001b[0m\u001b[0;34m]\u001b[0m\u001b[0;34m\u001b[0m\u001b[0;34m\u001b[0m\u001b[0m\n\u001b[0m\u001b[1;32m    476\u001b[0m         \u001b[0;31m# have first part already, only loop while more to receive\u001b[0m\u001b[0;34m\u001b[0m\u001b[0;34m\u001b[0m\u001b[0;34m\u001b[0m\u001b[0m\n",
      "\u001b[0;32mzmq/backend/cython/socket.pyx\u001b[0m in \u001b[0;36mzmq.backend.cython.socket.Socket.recv\u001b[0;34m()\u001b[0m\n",
      "\u001b[0;32mzmq/backend/cython/socket.pyx\u001b[0m in \u001b[0;36mzmq.backend.cython.socket.Socket.recv\u001b[0;34m()\u001b[0m\n",
      "\u001b[0;32mzmq/backend/cython/socket.pyx\u001b[0m in \u001b[0;36mzmq.backend.cython.socket._recv_copy\u001b[0;34m()\u001b[0m\n",
      "\u001b[0;32m/opt/anaconda3/lib/python3.7/site-packages/zmq/backend/cython/checkrc.pxd\u001b[0m in \u001b[0;36mzmq.backend.cython.checkrc._check_rc\u001b[0;34m()\u001b[0m\n",
      "\u001b[0;31mKeyboardInterrupt\u001b[0m: ",
      "\nDuring handling of the above exception, another exception occurred:\n",
      "\u001b[0;31mKeyboardInterrupt\u001b[0m                         Traceback (most recent call last)",
      "\u001b[0;32m<ipython-input-17-51371edf8d23>\u001b[0m in \u001b[0;36m<module>\u001b[0;34m\u001b[0m\n\u001b[1;32m      8\u001b[0m     \u001b[0mprint\u001b[0m\u001b[0;34m(\u001b[0m\u001b[0;34m'My Name is Travis'\u001b[0m\u001b[0;34m)\u001b[0m\u001b[0;34m\u001b[0m\u001b[0;34m\u001b[0m\u001b[0m\n\u001b[1;32m      9\u001b[0m     \u001b[0mprint\u001b[0m\u001b[0;34m(\u001b[0m\u001b[0mknown_user\u001b[0m\u001b[0;34m)\u001b[0m\u001b[0;34m\u001b[0m\u001b[0;34m\u001b[0m\u001b[0m\n\u001b[0;32m---> 10\u001b[0;31m     \u001b[0mname\u001b[0m \u001b[0;34m=\u001b[0m \u001b[0minput\u001b[0m\u001b[0;34m(\u001b[0m\u001b[0;34m'What is your name ? '\u001b[0m\u001b[0;34m)\u001b[0m\u001b[0;34m.\u001b[0m\u001b[0mstrip\u001b[0m\u001b[0;34m(\u001b[0m\u001b[0;34m)\u001b[0m\u001b[0;34m.\u001b[0m\u001b[0mcapitalize\u001b[0m\u001b[0;34m(\u001b[0m\u001b[0;34m)\u001b[0m\u001b[0;34m\u001b[0m\u001b[0;34m\u001b[0m\u001b[0m\n\u001b[0m\u001b[1;32m     11\u001b[0m \u001b[0;34m\u001b[0m\u001b[0m\n\u001b[1;32m     12\u001b[0m     \u001b[0;32mif\u001b[0m \u001b[0;34m(\u001b[0m\u001b[0mname\u001b[0m \u001b[0;32min\u001b[0m \u001b[0mknown_user\u001b[0m\u001b[0;34m)\u001b[0m\u001b[0;34m:\u001b[0m\u001b[0;34m\u001b[0m\u001b[0;34m\u001b[0m\u001b[0m\n",
      "\u001b[0;32m/opt/anaconda3/lib/python3.7/site-packages/ipykernel/kernelbase.py\u001b[0m in \u001b[0;36mraw_input\u001b[0;34m(self, prompt)\u001b[0m\n\u001b[1;32m    857\u001b[0m             \u001b[0mself\u001b[0m\u001b[0;34m.\u001b[0m\u001b[0m_parent_ident\u001b[0m\u001b[0;34m,\u001b[0m\u001b[0;34m\u001b[0m\u001b[0;34m\u001b[0m\u001b[0m\n\u001b[1;32m    858\u001b[0m             \u001b[0mself\u001b[0m\u001b[0;34m.\u001b[0m\u001b[0m_parent_header\u001b[0m\u001b[0;34m,\u001b[0m\u001b[0;34m\u001b[0m\u001b[0;34m\u001b[0m\u001b[0m\n\u001b[0;32m--> 859\u001b[0;31m             \u001b[0mpassword\u001b[0m\u001b[0;34m=\u001b[0m\u001b[0;32mFalse\u001b[0m\u001b[0;34m,\u001b[0m\u001b[0;34m\u001b[0m\u001b[0;34m\u001b[0m\u001b[0m\n\u001b[0m\u001b[1;32m    860\u001b[0m         )\n\u001b[1;32m    861\u001b[0m \u001b[0;34m\u001b[0m\u001b[0m\n",
      "\u001b[0;32m/opt/anaconda3/lib/python3.7/site-packages/ipykernel/kernelbase.py\u001b[0m in \u001b[0;36m_input_request\u001b[0;34m(self, prompt, ident, parent, password)\u001b[0m\n\u001b[1;32m    887\u001b[0m             \u001b[0;32mexcept\u001b[0m \u001b[0mKeyboardInterrupt\u001b[0m\u001b[0;34m:\u001b[0m\u001b[0;34m\u001b[0m\u001b[0;34m\u001b[0m\u001b[0m\n\u001b[1;32m    888\u001b[0m                 \u001b[0;31m# re-raise KeyboardInterrupt, to truncate traceback\u001b[0m\u001b[0;34m\u001b[0m\u001b[0;34m\u001b[0m\u001b[0;34m\u001b[0m\u001b[0m\n\u001b[0;32m--> 889\u001b[0;31m                 \u001b[0;32mraise\u001b[0m \u001b[0mKeyboardInterrupt\u001b[0m\u001b[0;34m\u001b[0m\u001b[0;34m\u001b[0m\u001b[0m\n\u001b[0m\u001b[1;32m    890\u001b[0m             \u001b[0;32melse\u001b[0m\u001b[0;34m:\u001b[0m\u001b[0;34m\u001b[0m\u001b[0;34m\u001b[0m\u001b[0m\n\u001b[1;32m    891\u001b[0m                 \u001b[0;32mbreak\u001b[0m\u001b[0;34m\u001b[0m\u001b[0;34m\u001b[0m\u001b[0m\n",
      "\u001b[0;31mKeyboardInterrupt\u001b[0m: "
     ]
    }
   ],
   "source": [
    "# Travis project \n",
    "# define know user \n",
    "\n",
    "known_user = [\"Ambarish\",\"Kaka\",\"Ghosh\",\"Boss\",\"Admin\",\"Hero\",\"Master\"]\n",
    "print('Total number of member in the list {}'.format(len(known_user)))\n",
    "\n",
    "while True: \n",
    "    print('My Name is Travis')\n",
    "    print(known_user)\n",
    "    name = input('What is your name ? ').strip().capitalize()\n",
    "    \n",
    "    if (name in known_user): \n",
    "        print ('Name is recognized')\n",
    "        print ('Hello {}!!'.format(name))\n",
    "        remove = input('Would you like to be removed from the list ? (Y/y)').upper()\n",
    "        \n",
    "        if remove == \"Y\":\n",
    "            known_user.remove(name)\n",
    "        \n",
    "        print(known_user)\n",
    "    else : \n",
    "        print ('Name is not recognized')\n",
    "        add = input('Would you like to add into the user list? (Y/y)').upper()\n",
    "        \n",
    "        if add == \"Y\" :\n",
    "            known_user.append(name)\n",
    "            \n",
    "        print(known_user)\n"
   ]
  },
  {
   "cell_type": "code",
   "execution_count": 21,
   "metadata": {},
   "outputs": [
    {
     "name": "stdout",
     "output_type": "stream",
     "text": [
      "[3, 6, 8, 1818, 33, 77]\n"
     ]
    }
   ],
   "source": [
    "# List append and add\n",
    "\n",
    "AA = [3,6,8,1818,33,77]\n",
    "\n",
    "print(AA)"
   ]
  },
  {
   "cell_type": "code",
   "execution_count": 25,
   "metadata": {},
   "outputs": [
    {
     "name": "stdout",
     "output_type": "stream",
     "text": [
      "[3, 6, 8, 1818, 33, 77, 44, 44, 'A', 'm', 'b', 'a', 'r', 'i', 's', 'h', 44, 'A', 'm', 'b', 'a', 'r', 'i', 's', 'h', 35, 44]\n",
      "[3, 6, 8, 1818, 33, 77, 44, 44, 'A', 'm', 'b', 'a', 'r', 'i', 's', 'h', 44, 'A', 'm', 'b', 'a', 'r', 'i', 's', 'h', 35, 44, 'A', 'm', 'b', 'a', 'r', 'i', 's', 'h']\n",
      "[3, 6, 8, 1818, 33, 77, 44, 44, 'A', 'm', 'b', 'a', 'r', 'i', 's', 'h', 44, 'A', 'm', 'b', 'a', 'r', 'i', 's', 'h', 35, 44, 'A', 'm', 'b', 'a', 'r', 'i', 's', 'h', 35]\n"
     ]
    }
   ],
   "source": [
    "AA = AA + [44]\n",
    "\n",
    "print(AA)\n",
    "\n",
    "AA = AA + list(\"Ambarish\")\n",
    "\n",
    "print(AA)\n",
    "\n",
    "AA.append(35)\n",
    "\n",
    "print(AA)"
   ]
  },
  {
   "cell_type": "code",
   "execution_count": 32,
   "metadata": {},
   "outputs": [
    {
     "name": "stdout",
     "output_type": "stream",
     "text": [
      "(1, 2, 55, 'AA', 4)\n",
      "(1, 2, 55, 'AA', 5)\n",
      "(1, 2, 55, 'AA', 7)\n",
      "55\n"
     ]
    },
    {
     "ename": "TypeError",
     "evalue": "'tuple' object does not support item assignment",
     "output_type": "error",
     "traceback": [
      "\u001b[0;31m---------------------------------------------------------------------------\u001b[0m",
      "\u001b[0;31mTypeError\u001b[0m                                 Traceback (most recent call last)",
      "\u001b[0;32m<ipython-input-32-7f83b5282673>\u001b[0m in \u001b[0;36m<module>\u001b[0;34m\u001b[0m\n\u001b[1;32m     15\u001b[0m \u001b[0mprint\u001b[0m\u001b[0;34m(\u001b[0m\u001b[0mmy_tuple\u001b[0m\u001b[0;34m[\u001b[0m\u001b[0;36m2\u001b[0m\u001b[0;34m]\u001b[0m\u001b[0;34m)\u001b[0m\u001b[0;34m\u001b[0m\u001b[0;34m\u001b[0m\u001b[0m\n\u001b[1;32m     16\u001b[0m \u001b[0;34m\u001b[0m\u001b[0m\n\u001b[0;32m---> 17\u001b[0;31m \u001b[0mmy_tuple\u001b[0m\u001b[0;34m[\u001b[0m\u001b[0;36m2\u001b[0m\u001b[0;34m]\u001b[0m \u001b[0;34m=\u001b[0m \u001b[0;36m66\u001b[0m\u001b[0;34m\u001b[0m\u001b[0;34m\u001b[0m\u001b[0m\n\u001b[0m",
      "\u001b[0;31mTypeError\u001b[0m: 'tuple' object does not support item assignment"
     ]
    }
   ],
   "source": [
    "# tuple \n",
    "\n",
    "my_tuple = 1,2,55,\"AA\",4\n",
    "\n",
    "print(my_tuple)\n",
    "\n",
    "my_tuple = 1,2,55,\"AA\",5\n",
    "\n",
    "print(my_tuple)\n",
    "\n",
    "my_tuple = (1,2,55,\"AA\",7)\n",
    "\n",
    "print(my_tuple)\n",
    "\n",
    "print(my_tuple[2])\n",
    "\n",
    "# error cant change the value in tuple like mentioned below\n",
    "my_tuple[2] = 66"
   ]
  },
  {
   "cell_type": "code",
   "execution_count": 33,
   "metadata": {},
   "outputs": [
    {
     "name": "stdout",
     "output_type": "stream",
     "text": [
      "{'Amba': 12, 'Ram': 77, 'Sham': 44, 'Tom': 55}\n"
     ]
    }
   ],
   "source": [
    "# Dictionary # keys() # values() #items()\n",
    "\n",
    "AA = {}\n",
    "\n",
    "AA = {\"Amba\":12,\"Ram\":77,\"Sham\":44,\"Tom\":55}\n",
    "\n",
    "print(AA)"
   ]
  },
  {
   "cell_type": "code",
   "execution_count": 34,
   "metadata": {},
   "outputs": [
    {
     "data": {
      "text/plain": [
       "77"
      ]
     },
     "execution_count": 34,
     "metadata": {},
     "output_type": "execute_result"
    }
   ],
   "source": [
    "AA[\"Ram\"]"
   ]
  },
  {
   "cell_type": "code",
   "execution_count": 35,
   "metadata": {},
   "outputs": [
    {
     "data": {
      "text/plain": [
       "dict_keys(['Amba', 'Ram', 'Sham', 'Tom'])"
      ]
     },
     "execution_count": 35,
     "metadata": {},
     "output_type": "execute_result"
    }
   ],
   "source": [
    "AA.keys()"
   ]
  },
  {
   "cell_type": "code",
   "execution_count": 40,
   "metadata": {},
   "outputs": [
    {
     "data": {
      "text/plain": [
       "'Ram'"
      ]
     },
     "execution_count": 40,
     "metadata": {},
     "output_type": "execute_result"
    }
   ],
   "source": [
    "X = list(AA.keys())\n",
    "\n",
    "X[1]"
   ]
  },
  {
   "cell_type": "code",
   "execution_count": 41,
   "metadata": {},
   "outputs": [
    {
     "data": {
      "text/plain": [
       "dict_values([12, 77, 44, 55])"
      ]
     },
     "execution_count": 41,
     "metadata": {},
     "output_type": "execute_result"
    }
   ],
   "source": [
    "AA.values()"
   ]
  },
  {
   "cell_type": "code",
   "execution_count": 44,
   "metadata": {},
   "outputs": [
    {
     "data": {
      "text/plain": [
       "55"
      ]
     },
     "execution_count": 44,
     "metadata": {},
     "output_type": "execute_result"
    }
   ],
   "source": [
    "Y = list(AA.values())\n",
    "\n",
    "Y[3]"
   ]
  },
  {
   "cell_type": "code",
   "execution_count": 45,
   "metadata": {},
   "outputs": [
    {
     "data": {
      "text/plain": [
       "dict_items([('Amba', 12), ('Ram', 77), ('Sham', 44), ('Tom', 55)])"
      ]
     },
     "execution_count": 45,
     "metadata": {},
     "output_type": "execute_result"
    }
   ],
   "source": [
    "AA.items()"
   ]
  },
  {
   "cell_type": "code",
   "execution_count": 47,
   "metadata": {},
   "outputs": [
    {
     "data": {
      "text/plain": [
       "{'Ambarish': {'ID': 'ID007', 'Age': 35, 'Grade': 'E'},\n",
       " 'Ram': {'ID': 'ID009', 'Age': 37, 'Grade': 'A'},\n",
       " 'Rahim': {'ID': 'ID011', 'Age': 21, 'Grade': 'B'}}"
      ]
     },
     "execution_count": 47,
     "metadata": {},
     "output_type": "execute_result"
    }
   ],
   "source": [
    "# nested dictionary \n",
    "\n",
    "student = { \"Ambarish\" : {\"ID\":\"ID007\", \"Age\": 35, \"Grade\": \"E\"},\n",
    "            \"Ram\" : {\"ID\":\"ID009\", \"Age\": 37, \"Grade\": \"A\"},\n",
    "            \"Rahim\" : {\"ID\":\"ID011\", \"Age\": 21, \"Grade\": \"B\"}}\n",
    "\n",
    "student"
   ]
  },
  {
   "cell_type": "code",
   "execution_count": 48,
   "metadata": {},
   "outputs": [
    {
     "data": {
      "text/plain": [
       "37"
      ]
     },
     "execution_count": 48,
     "metadata": {},
     "output_type": "execute_result"
    }
   ],
   "source": [
    "# easy access of dictionary \n",
    "\n",
    "student[\"Ram\"]['Age']"
   ]
  },
  {
   "cell_type": "code",
   "execution_count": null,
   "metadata": {},
   "outputs": [],
   "source": []
  }
 ],
 "metadata": {
  "kernelspec": {
   "display_name": "Python 3",
   "language": "python",
   "name": "python3"
  }
 },
 "nbformat": 4,
 "nbformat_minor": 4
}
