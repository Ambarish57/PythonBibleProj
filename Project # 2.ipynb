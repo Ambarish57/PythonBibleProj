{
 "cells": [
  {
   "cell_type": "code",
   "execution_count": 1,
   "metadata": {},
   "outputs": [],
   "source": [
    "#Last Checkpoint: a minute ago"
   ]
  },
  {
   "cell_type": "code",
   "execution_count": 2,
   "metadata": {},
   "outputs": [
    {
     "name": "stdout",
     "output_type": "stream",
     "text": [
      "What is your name ? :Ambarish Ghosh\n",
      "Ambarish Ghosh\n",
      "What is your age ? :35\n",
      "35\n",
      "What is your city ? :Madison\n",
      "Madison\n",
      "What is your hobby ? :Coding\n",
      "Coding\n",
      "Your name is Ambarish Ghosh. Your age is 35. You live in a city named Madison and your hobby is Coding.\n"
     ]
    }
   ],
   "source": [
    "# example\n",
    "# s = input('>>>') --> you can always search in python build-in lib help for all details  \n",
    "# print('My name is '+s)\n",
    "\n",
    "#Ask user name \n",
    "\n",
    "name = input('What is your name ? :')\n",
    "\n",
    "print(name)\n",
    "\n",
    "#Ask user age \n",
    "\n",
    "age = input('What is your age ? :')\n",
    "\n",
    "print(age)\n",
    "\n",
    "#Ask user city\n",
    "\n",
    "city = input('What is your city ? :')\n",
    "\n",
    "print(city)\n",
    "\n",
    "\n",
    "#Ask user hobby \n",
    "\n",
    "hobby = input('What is your hobby ? :')\n",
    "\n",
    "print(hobby)\n",
    "\n",
    "\n",
    "#Create output text \n",
    "\n",
    "str1 = \"Your name is {0}. Your age is {2}. You live in a city named {1} and your hobby is {3}.\"\n",
    "str2 = str1.format(name,city,age,hobby)\n",
    "\n",
    "#print output \n",
    "\n",
    "print(str2)\n",
    "\n",
    "\n"
   ]
  },
  {
   "cell_type": "code",
   "execution_count": null,
   "metadata": {},
   "outputs": [],
   "source": []
  }
 ],
 "metadata": {
  "kernelspec": {
   "display_name": "Python 3",
   "language": "python",
   "name": "python3"
  },
  "language_info": {
   "codemirror_mode": {
    "name": "ipython",
    "version": 3
   },
   "file_extension": ".py",
   "mimetype": "text/x-python",
   "name": "python",
   "nbconvert_exporter": "python",
   "pygments_lexer": "ipython3",
   "version": "3.7.6"
  }
 },
 "nbformat": 4,
 "nbformat_minor": 4
}
